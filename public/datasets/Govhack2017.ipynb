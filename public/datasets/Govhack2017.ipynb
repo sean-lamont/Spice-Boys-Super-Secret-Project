{
 "cells": [
  {
   "cell_type": "code",
   "execution_count": 2,
   "metadata": {
    "collapsed": false
   },
   "outputs": [
    {
     "name": "stdout",
     "output_type": "stream",
     "text": [
      "3.6.0 |Anaconda 4.3.0 (64-bit)| (default, Dec 23 2016, 11:57:41) [MSC v.1900 64 bit (AMD64)]\n"
     ]
    }
   ],
   "source": [
    "import sys\n",
    "print (sys.version)"
   ]
  },
  {
   "cell_type": "code",
   "execution_count": 3,
   "metadata": {
    "collapsed": true
   },
   "outputs": [],
   "source": [
    "import pandas as pd"
   ]
  },
  {
   "cell_type": "code",
   "execution_count": 288,
   "metadata": {
    "collapsed": false
   },
   "outputs": [
    {
     "data": {
      "text/plain": [
       "School Name       Isabella Plains Early Childhood School\n",
       "Street Address                          Ellerston Avenue\n",
       "Suburb                                   Isabella Plains\n",
       "Sector                                        Government\n",
       "Type                              Early Childhood School\n",
       "Location 1                      (-35.428716, 149.089497)\n",
       "Name: 1, dtype: object"
      ]
     },
     "execution_count": 288,
     "metadata": {},
     "output_type": "execute_result"
    }
   ],
   "source": [
    "schools = pd.read_csv('schools.csv')\n",
    "schools.ix[1]"
   ]
  },
  {
   "cell_type": "code",
   "execution_count": 289,
   "metadata": {
    "collapsed": false
   },
   "outputs": [
    {
     "data": {
      "text/plain": [
       "((-35.428716, 149.089497), (-35.341633, 149.076243))"
      ]
     },
     "execution_count": 289,
     "metadata": {},
     "output_type": "execute_result"
    }
   ],
   "source": [
    "from ast import literal_eval as make_tuple\n",
    "tuple_1 = make_tuple(schools.ix[1]['Location 1'])\n",
    "tuple_2 = make_tuple(schools.ix[2]['Location 1'])\n",
    "tuple_1, tuple_2"
   ]
  },
  {
   "cell_type": "code",
   "execution_count": 290,
   "metadata": {
    "collapsed": false
   },
   "outputs": [
    {
     "data": {
      "text/plain": [
       "9.736412983544568"
      ]
     },
     "execution_count": 290,
     "metadata": {},
     "output_type": "execute_result"
    }
   ],
   "source": [
    "from geopy import *\n",
    "#import geopy.distance\n",
    "geopy.distance.vincenty(tuple_1,tuple_2).km"
   ]
  },
  {
   "cell_type": "code",
   "execution_count": 291,
   "metadata": {
    "collapsed": false,
    "scrolled": true
   },
   "outputs": [
    {
     "name": "stderr",
     "output_type": "stream",
     "text": [
      "C:\\ProgramData\\Anaconda3\\lib\\site-packages\\ipykernel\\__main__.py:8: SettingWithCopyWarning: \n",
      "A value is trying to be set on a copy of a slice from a DataFrame.\n",
      "Try using .loc[row_indexer,col_indexer] = value instead\n",
      "\n",
      "See the caveats in the documentation: http://pandas.pydata.org/pandas-docs/stable/indexing.html#indexing-view-versus-copy\n"
     ]
    }
   ],
   "source": [
    "import numpy as np\n",
    "population = pd.read_csv('population.csv')\n",
    "population = population[population['Year'] == '06/30/2017 12:00:00 AM']\n",
    "population['population'] = np.sum(population.ix[:,2:], axis=1)\n",
    "population.loc[2]\n",
    "new_df = population.ix[:,[1,174]]\n",
    "#new_df = new_df[new_df['Year']=='06/30/2017 12:00:00 AM']\n",
    "new_df['Suburb'] = new_df['Suburb'].map(str.strip)\n",
    "new_df.set_index('Suburb', inplace= True)\n",
    "\n",
    "new_row = new_df.ix[1]\n",
    "new_row.name =  'Gungahlin'\n",
    "new_row.population = new_df.loc['Gungahlin TC'] + new_df.loc['Gungahlin East'] + new_df.loc['Gungahlin West']\n",
    "\n",
    "new_row2 = new_df.ix[1]\n",
    "new_row2.name =  'Barton'\n",
    "new_row2.population = new_df.loc['Kingston-Barton']/2\n",
    "\n",
    "new_row3 = new_df.ix[1]\n",
    "new_row3.name =  'Kingston'\n",
    "new_row2.population = new_df.loc['Kingston-Barton']/2\n",
    "\n",
    "new_df = new_df.append([new_row, new_row2, new_row3])\n",
    "new_df = new_df.drop(['Gungahlin TC','Gungahlin East','Gungahlin West', 'Kingston-Barton'])\n",
    "new_df.sort_index()\n",
    "new_df.to_csv('populationOut.csv')"
   ]
  },
  {
   "cell_type": "code",
   "execution_count": 292,
   "metadata": {
    "collapsed": false
   },
   "outputs": [],
   "source": [
    "new_df['schools'] = 0"
   ]
  },
  {
   "cell_type": "code",
   "execution_count": 293,
   "metadata": {
    "collapsed": false
   },
   "outputs": [],
   "source": [
    "schools['Suburb'] = schools['Suburb'].map(str.strip)"
   ]
  },
  {
   "cell_type": "code",
   "execution_count": 294,
   "metadata": {
    "collapsed": false
   },
   "outputs": [
    {
     "name": "stdout",
     "output_type": "stream",
     "text": [
      "Duntroon\n",
      "ACT 2540\n",
      "ACT 2620\n",
      "Coombs\n",
      "ACT 2540\n",
      "Tharwa\n"
     ]
    }
   ],
   "source": [
    "for index,row in schools.iterrows():\n",
    "    if row['Suburb'] == \"MacGregor\" :\n",
    "        new_df.loc['Macgregor'] += 1\n",
    "    else:\n",
    "        if row['Suburb'] not in new_df.index:\n",
    "            print (row['Suburb'])\n",
    "        else:\n",
    "            new_df.loc[row['Suburb'], 'schools'] += 1\n",
    "new_df.to_csv('dataOut.csv')"
   ]
  },
  {
   "cell_type": "code",
   "execution_count": 295,
   "metadata": {
    "collapsed": false
   },
   "outputs": [],
   "source": [
    "new_df['recreation'] = 0"
   ]
  },
  {
   "cell_type": "code",
   "execution_count": 296,
   "metadata": {
    "collapsed": false
   },
   "outputs": [
    {
     "name": "stdout",
     "output_type": "stream",
     "text": [
      "City\n"
     ]
    }
   ],
   "source": [
    "skate = pd.read_csv('skate_parks.csv')\n",
    "skate[\"DIVISION\"] = skate[\"DIVISION\"].map(str.strip)\n",
    "for index,row in skate.iterrows():\n",
    "    if row['DIVISION'] == \"MacGregor\" :\n",
    "        new_df.loc['Macgregor'] += 1\n",
    "    else:\n",
    "        if row['DIVISION'] not in new_df.index:\n",
    "            print (row['DIVISION'])\n",
    "        else:\n",
    "            new_df.loc[row['DIVISION'], 'recreation'] += 1\n",
    "new_df.to_csv('dataOut.csv')"
   ]
  },
  {
   "cell_type": "code",
   "execution_count": 297,
   "metadata": {
    "collapsed": false
   },
   "outputs": [],
   "source": [
    "sport = pd.read_csv('Sports_Grounds_In_The_Act.csv')\n",
    "sport[\"Suburb\"] = sport[\"Suburb\"].map(str.strip)\n",
    "for index,row in sport.iterrows():\n",
    "    if row['Suburb'] == \"MacGregor\" :\n",
    "        new_df.loc['Macgregor'] += 1\n",
    "    else:\n",
    "        if row['Suburb'] not in new_df.index:\n",
    "            print (row['Suburb'])\n",
    "        else:\n",
    "            new_df.loc[row['Suburb'], 'recreation'] += 1\n",
    "new_df.to_csv('dataOut.csv')"
   ]
  },
  {
   "cell_type": "code",
   "execution_count": 298,
   "metadata": {
    "collapsed": false
   },
   "outputs": [
    {
     "name": "stdout",
     "output_type": "stream",
     "text": [
      "City\n",
      "Oaks Estate\n",
      "Paddys River (Rural Dist.)\n"
     ]
    }
   ],
   "source": [
    "sport = pd.read_csv('Town_And_District_Playgrounds.csv')\n",
    "sport[\"DIVISION_NAME\"] = sport[\"DIVISION_NAME\"].map(str.strip)\n",
    "for index,row in sport.iterrows():\n",
    "    if row['DIVISION_NAME'] == \"MacGregor\" :\n",
    "        new_df.loc['Macgregor'] += 1\n",
    "    elif row['DIVISION_NAME'] == \"O'malley\" :\n",
    "        new_df.loc[\"O'Malley\"] += 1\n",
    "    elif row['DIVISION_NAME'] == \"O'connor\" :\n",
    "        new_df.loc[\"O'Connor\"] += 1\n",
    "    else:\n",
    "        if row['DIVISION_NAME'] not in new_df.index:\n",
    "            print (row['DIVISION_NAME'])\n",
    "        else:\n",
    "            new_df.loc[row['DIVISION_NAME'], 'recreation'] += 1\n",
    "new_df.to_csv('dataOut.csv')"
   ]
  },
  {
   "cell_type": "code",
   "execution_count": 299,
   "metadata": {
    "collapsed": false
   },
   "outputs": [
    {
     "name": "stdout",
     "output_type": "stream",
     "text": [
      "City\n",
      "Oaks Estate\n",
      "Paddys River (Rural Dist.)\n"
     ]
    }
   ],
   "source": [
    "baskCourt = pd.read_csv('Basketball_Courts.csv')\n",
    "baskCourt[\"DIVISION\"] = baskCourt[\"DIVISION\"].map(str.strip)\n",
    "for index,row in baskCourt.iterrows():\n",
    "    if row['DIVISION'] == \"MacGregor\" :\n",
    "        new_df.loc['Macgregor'] += 1\n",
    "    elif row['DIVISION'] == \"O'malley\" :\n",
    "        new_df.loc[\"O'Malley\"] += 1\n",
    "    elif row['DIVISION'] == \"O'connor\" :\n",
    "        new_df.loc[\"O'Connor\"] += 1\n",
    "    else:\n",
    "        if row['DIVISION'] not in new_df.index:\n",
    "            print (row['DIVISION'])\n",
    "        else:\n",
    "            new_df.loc[row['DIVISION'], 'recreation'] += 1\n",
    "new_df.to_csv('dataOut.csv')"
   ]
  },
  {
   "cell_type": "code",
   "execution_count": null,
   "metadata": {
    "collapsed": true
   },
   "outputs": [],
   "source": []
  },
  {
   "cell_type": "code",
   "execution_count": null,
   "metadata": {
    "collapsed": true
   },
   "outputs": [],
   "source": []
  }
 ],
 "metadata": {
  "kernelspec": {
   "display_name": "Python 3",
   "language": "python",
   "name": "python3"
  },
  "language_info": {
   "codemirror_mode": {
    "name": "ipython",
    "version": 3
   },
   "file_extension": ".py",
   "mimetype": "text/x-python",
   "name": "python",
   "nbconvert_exporter": "python",
   "pygments_lexer": "ipython3",
   "version": "3.6.0"
  }
 },
 "nbformat": 4,
 "nbformat_minor": 2
}
