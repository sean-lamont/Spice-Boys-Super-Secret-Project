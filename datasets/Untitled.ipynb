{
 "cells": [
  {
   "cell_type": "code",
   "execution_count": 9,
   "metadata": {
    "collapsed": true
   },
   "outputs": [],
   "source": [
    "import numpy as np\n",
    "import pandas as pd\n",
    "import json"
   ]
  },
  {
   "cell_type": "code",
   "execution_count": 49,
   "metadata": {
    "collapsed": false
   },
   "outputs": [
    {
     "data": {
      "text/plain": [
       "array([ [1, '922C9019-AA58-4178-B368-E670730D12F3', 1, 1500422382, '939722', 1500422382, '939722', None, '1500', '-35.418312', '149.11557', 'BEATTIE CR AFTER GOLDSTEIN CR', 'CHISHOLM', [None, '-35.418312', '149.11557', None, False]],\n",
       "       [2, '823A1897-B91D-42CA-88E8-12680AB161B0', 2, 1500422382, '939722', 1500422382, '939722', None, '1521', '-35.396854', '149.104095', 'LONGMORE CR AFTER HARKER PL', 'WANNIASSA', [None, '-35.396854', '149.104095', None, False]],\n",
       "       [3, '45DB22BE-1A40-412C-88CA-F11AD31315C3', 3, 1500422382, '939722', 1500422382, '939722', None, '1522', '-35.397308', '149.104156', 'LONGMORE CR 4TH AFTER GAUNSON ST', 'WANNIASSA', [None, '-35.397308', '149.104156', None, False]],\n",
       "       ...,\n",
       "       [2579, '1B8D5B6D-FFAD-42CC-AD56-3501AFE4DEC5', 2579, 1500422383, '939722', 1500422383, '939722', None, '1501', '-35.418602', '149.115219', 'BEATTIE CR AFTER LONGMAN ST', 'RICHARDSON', [None, '-35.418602', '149.115219', None, False]],\n",
       "       [2580, '13D71108-BFDE-4658-A513-9E92536A71E5', 2580, 1500422383, '939722', 1500422383, '939722', None, '1502', '-35.414661', '149.112503', 'BUGDEN AV AFTER KELLETT ST', 'GOWRIE', [None, '-35.414661', '149.112503', None, False]],\n",
       "       [2581, '75803515-9664-493E-859B-E17625AE93B4', 2581, 1500422383, '939722', 1500422383, '939722', None, '1499', '-35.420963', '149.113861', 'BEATTIE CR AFTER GIBBONS ST', 'CHISHOLM', [None, '-35.420963', '149.113861', None, False]]], dtype=object)"
      ]
     },
     "execution_count": 49,
     "metadata": {},
     "output_type": "execute_result"
    }
   ],
   "source": [
    "a = pd.read_json('data.json')\n",
    "n = a.values\n",
    "n.reshape(2581)\n",
    "#a = pd.DataFrame(data = n, columns= [])\n",
    "#a"
   ]
  }
 ],
 "metadata": {
  "kernelspec": {
   "display_name": "Python 3",
   "language": "python",
   "name": "python3"
  },
  "language_info": {
   "codemirror_mode": {
    "name": "ipython",
    "version": 3
   },
   "file_extension": ".py",
   "mimetype": "text/x-python",
   "name": "python",
   "nbconvert_exporter": "python",
   "pygments_lexer": "ipython3",
   "version": "3.6.0"
  }
 },
 "nbformat": 4,
 "nbformat_minor": 2
}
